{
 "cells": [
  {
   "cell_type": "code",
   "execution_count": null,
   "metadata": {
    "collapsed": true
   },
   "outputs": [],
   "source": [
    "#This Notebook has code for running CNN using 200 pixels. Uses Lasagne. Assumes that all images are in \"input\" folder in \\\n",
    "#the same directory. Also, assumes to have the two csv files - ids_train.csv and sample_submission4.csv"
   ]
  },
  {
   "cell_type": "code",
   "execution_count": 2,
   "metadata": {
    "collapsed": false
   },
   "outputs": [],
   "source": [
    "import csv\n",
    "import os\n",
    "import cv2\n",
    "import glob\n",
    "import math\n",
    "import time\n",
    "import random\n",
    "import numpy as np\n",
    "import pandas as pd\n",
    "\n",
    "from sklearn.utils import shuffle\n",
    "from sklearn.preprocessing import LabelEncoder\n",
    "from sklearn.cross_validation import train_test_split\n",
    "from sklearn.neighbors import KNeighborsClassifier\n",
    "from sklearn.metrics import confusion_matrix\n",
    "from sklearn.metrics import classification_report\n",
    "from sklearn.naive_bayes import GaussianNB\n",
    "from sklearn.naive_bayes import BernoulliNB\n",
    "from sklearn.naive_bayes import MultinomialNB\n",
    "from sklearn.grid_search import GridSearchCV\n",
    "\n",
    "import matplotlib.pyplot as plt\n",
    "%matplotlib inline\n",
    "\n",
    "import lasagne\n",
    "from lasagne import layers\n",
    "from lasagne.layers import helper\n",
    "from lasagne.updates import adam\n",
    "from lasagne.nonlinearities import rectify, softmax\n",
    "from lasagne.layers import InputLayer, DenseLayer, DropoutLayer, helper\n",
    "from lasagne.layers import InputLayer, MaxPool2DLayer, DenseLayer, DropoutLayer, helper\n",
    "from lasagne.layers import Conv2DLayer\n",
    "\n",
    "\n",
    "#try:\n",
    "#    from lasagne.layers.cuda_convnet import Conv2DLayer\n",
    "#    from lasagne.layers.cuda_convnet import MaxPool2DLayer\n",
    "#except ImportError:\n",
    "#    Conv2DLayer = layers.Conv2DLayer\n",
    "#    MaxPool2DLayer = layers.MaxPool2DLayer\n",
    "\n",
    "import theano\n",
    "from theano import tensor as T\n",
    "\n",
    "\n",
    "#try:\n",
    "#   theano.config.device = 'gpu'\n",
    "#except:\n",
    "    #pass # its already set\n",
    "#theano.config.device = 'cpu'\n",
    "theano.config.floatX = 'float32'\n",
    "theano.config.blas.ldflags='-LC:\\\\openblas -lopenblas'"
   ]
  },
  {
   "cell_type": "code",
   "execution_count": 13,
   "metadata": {
    "collapsed": false
   },
   "outputs": [],
   "source": [
    "'''\n",
    "Loading data functions\n",
    "'''\n",
    "PIXELS = 200\n",
    "imageSize = PIXELS * PIXELS\n",
    "num_features = imageSize \n",
    "\n",
    "def load_train_cv(encoder):\n",
    "    X_train = []\n",
    "    y_train = []\n",
    "    print('Read train images')\n",
    "    with open('id_train.csv', 'rb') as csvfile:\n",
    "        trainreader = csv.reader(csvfile, delimiter=',')\n",
    "        next(trainreader)\n",
    "        for row in trainreader:\n",
    "            file_name = os.path.join('input', row[0] + '.jpg')\n",
    "            img = cv2.imread(file_name,0)\n",
    "            img = cv2.resize(img, (PIXELS, PIXELS))\n",
    "            #img = img.transpose(2, 0, 1)\n",
    "            img = np.reshape(img, (1, num_features))\n",
    "            X_train.append(img)\n",
    "            y_train.append(row[1])\n",
    "\n",
    "    X_train = np.array(X_train)\n",
    "    y_train = np.array(y_train)#.astype('int32')\n",
    "\n",
    "    y_train = encoder.fit_transform(y_train).astype('int32')\n",
    "\n",
    "    X_train, y_train = shuffle(X_train, y_train)\n",
    "\n",
    "    X_train, X_test, y_train, y_test = train_test_split(X_train, y_train, test_size=0.2)\n",
    "\n",
    "    X_train = X_train.reshape(X_train.shape[0], 1, PIXELS, PIXELS).astype('float32') / 255.\n",
    "    X_test = X_test.reshape(X_test.shape[0], 1, PIXELS, PIXELS).astype('float32') / 255.\n",
    "\n",
    "    return X_train, y_train, X_test, y_test, encoder\n",
    "\n",
    "def load_test():\n",
    "    print('Read test images')\n",
    "    X_test = []\n",
    "    X_test_id = []\n",
    "    with open('sample_submission4.csv', 'rb') as csvfile:\n",
    "        testreader = csv.reader(csvfile, delimiter=',')\n",
    "        next(testreader)\n",
    "        for row in testreader:\n",
    "            file_name = os.path.join('input', row[0] + '.jpg')\n",
    "            img = cv2.imread(file_name,0)\n",
    "            img = cv2.resize(img, (PIXELS, PIXELS))\n",
    "            #img = img.transpose(2, 0, 1)\n",
    "            img = np.reshape(img, (1, num_features))\n",
    "            X_test.append(img)\n",
    "            X_test_id.append(row[0])\n",
    "\n",
    "    X_test = np.array(X_test)\n",
    "    X_test_id = np.array(X_test_id)\n",
    "\n",
    "    X_test = X_test.reshape(X_test.shape[0], 1, PIXELS, PIXELS).astype('float32') / 255.\n",
    "\n",
    "    return X_test, X_test_id\n",
    "\n"
   ]
  },
  {
   "cell_type": "code",
   "execution_count": 14,
   "metadata": {
    "collapsed": false
   },
   "outputs": [
    {
     "name": "stdout",
     "output_type": "stream",
     "text": [
      "Read train images\n",
      "('Train shape:', (6400L, 1L, 200L, 200L), 'Dev (valid) shape:', (1600L, 1L, 200L, 200L))\n",
      "('Train shape:', (6400L,), 'Dev (valid) shape:', (1600L,))\n",
      "Read test images\n",
      "('Test shape:', (13999L, 1L, 200L, 200L), 'Test ID shape:', (13999L,))\n",
      "Read unlabel images\n"
     ]
    },
    {
     "ename": "error",
     "evalue": "C:\\builds\\master_PackSlaveAddon-win64-vc12-static\\opencv\\modules\\imgproc\\src\\imgwarp.cpp:3229: error: (-215) ssize.area() > 0 in function cv::resize\n",
     "output_type": "error",
     "traceback": [
      "\u001b[1;31m---------------------------------------------------------------------------\u001b[0m",
      "\u001b[1;31merror\u001b[0m                                     Traceback (most recent call last)",
      "\u001b[1;32m<ipython-input-14-fe4e281b8071>\u001b[0m in \u001b[0;36m<module>\u001b[1;34m()\u001b[0m\n\u001b[0;32m     14\u001b[0m \u001b[1;33m\u001b[0m\u001b[0m\n\u001b[0;32m     15\u001b[0m \u001b[1;31m# load unlabeled data\u001b[0m\u001b[1;33m\u001b[0m\u001b[1;33m\u001b[0m\u001b[0m\n\u001b[1;32m---> 16\u001b[1;33m \u001b[0mX_unlabel\u001b[0m\u001b[1;33m,\u001b[0m \u001b[0mX_unlabel_id\u001b[0m \u001b[1;33m=\u001b[0m \u001b[0mload_unlabeled\u001b[0m\u001b[1;33m(\u001b[0m\u001b[1;33m)\u001b[0m\u001b[1;33m\u001b[0m\u001b[0m\n\u001b[0m\u001b[0;32m     17\u001b[0m \u001b[1;32mprint\u001b[0m\u001b[1;33m(\u001b[0m\u001b[1;34m'unlabeled shape:'\u001b[0m\u001b[1;33m,\u001b[0m \u001b[0mX_unlabel\u001b[0m\u001b[1;33m.\u001b[0m\u001b[0mshape\u001b[0m\u001b[1;33m,\u001b[0m \u001b[1;34m'unlabeled ID shape:'\u001b[0m\u001b[1;33m,\u001b[0m \u001b[0mX_unlabel_id\u001b[0m\u001b[1;33m.\u001b[0m\u001b[0mshape\u001b[0m\u001b[1;33m)\u001b[0m\u001b[1;33m\u001b[0m\u001b[0m\n",
      "\u001b[1;32m<ipython-input-13-b039f972aab8>\u001b[0m in \u001b[0;36mload_unlabeled\u001b[1;34m()\u001b[0m\n\u001b[0;32m     82\u001b[0m         \u001b[1;32mif\u001b[0m \u001b[0mfile_name\u001b[0m \u001b[1;32mnot\u001b[0m \u001b[1;32min\u001b[0m \u001b[0mtrain_test_list\u001b[0m\u001b[1;33m:\u001b[0m\u001b[1;33m\u001b[0m\u001b[0m\n\u001b[0;32m     83\u001b[0m             \u001b[0mimg\u001b[0m \u001b[1;33m=\u001b[0m \u001b[0mcv2\u001b[0m\u001b[1;33m.\u001b[0m\u001b[0mimread\u001b[0m\u001b[1;33m(\u001b[0m\u001b[0mfile_name\u001b[0m\u001b[1;33m,\u001b[0m\u001b[1;36m0\u001b[0m\u001b[1;33m)\u001b[0m\u001b[1;33m\u001b[0m\u001b[0m\n\u001b[1;32m---> 84\u001b[1;33m             \u001b[0mimg\u001b[0m \u001b[1;33m=\u001b[0m \u001b[0mcv2\u001b[0m\u001b[1;33m.\u001b[0m\u001b[0mresize\u001b[0m\u001b[1;33m(\u001b[0m\u001b[0mimg\u001b[0m\u001b[1;33m,\u001b[0m \u001b[1;33m(\u001b[0m\u001b[0mPIXELS\u001b[0m\u001b[1;33m,\u001b[0m \u001b[0mPIXELS\u001b[0m\u001b[1;33m)\u001b[0m\u001b[1;33m)\u001b[0m\u001b[1;33m\u001b[0m\u001b[0m\n\u001b[0m\u001b[0;32m     85\u001b[0m             \u001b[1;31m#img = img.transpose(2, 0, 1)\u001b[0m\u001b[1;33m\u001b[0m\u001b[1;33m\u001b[0m\u001b[0m\n\u001b[0;32m     86\u001b[0m             \u001b[0mimg\u001b[0m \u001b[1;33m=\u001b[0m \u001b[0mnp\u001b[0m\u001b[1;33m.\u001b[0m\u001b[0mreshape\u001b[0m\u001b[1;33m(\u001b[0m\u001b[0mimg\u001b[0m\u001b[1;33m,\u001b[0m \u001b[1;33m(\u001b[0m\u001b[1;36m1\u001b[0m\u001b[1;33m,\u001b[0m \u001b[0mnum_features\u001b[0m\u001b[1;33m)\u001b[0m\u001b[1;33m)\u001b[0m\u001b[1;33m\u001b[0m\u001b[0m\n",
      "\u001b[1;31merror\u001b[0m: C:\\builds\\master_PackSlaveAddon-win64-vc12-static\\opencv\\modules\\imgproc\\src\\imgwarp.cpp:3229: error: (-215) ssize.area() > 0 in function cv::resize\n"
     ]
    }
   ],
   "source": [
    "'''\n",
    "load training data and test data \n",
    "'''\n",
    "encoder = LabelEncoder()\n",
    "\n",
    "# load the training and validation data sets\n",
    "train_X, train_y, valid_X, valid_y, encoder = load_train_cv(encoder)\n",
    "print('Train shape:', train_X.shape, 'Dev (valid) shape:', valid_X.shape)\n",
    "print('Train shape:', train_y.shape, 'Dev (valid) shape:', valid_y.shape)\n",
    "\n",
    "# load data\n",
    "X_test, X_test_id = load_test()\n",
    "print('Test shape:', X_test.shape, 'Test ID shape:', X_test_id.shape)\n",
    "\n"
   ]
  },
  {
   "cell_type": "code",
   "execution_count": 28,
   "metadata": {
    "collapsed": false
   },
   "outputs": [
    {
     "name": "stdout",
     "output_type": "stream",
     "text": [
      "Read unlabel images\n",
      "('unlabeled shape:', (20760L, 1L, 200L, 200L), 'unlabeled ID shape:', (20760L,))\n"
     ]
    }
   ],
   "source": [
    "from os import listdir\n",
    "\n",
    "def load_unlabeled():\n",
    "    print('Read unlabel images')\n",
    "    X_unlabel = []\n",
    "    X_unlabel_id = []\n",
    "    train_test_list = []\n",
    "    \n",
    "    #get test id's\n",
    "    with open('sample_submission4.csv', 'rb') as csvfile:\n",
    "        testreader = csv.reader(csvfile, delimiter=',')\n",
    "        next(testreader)\n",
    "        for row in testreader:\n",
    "            train_test_list.append(row[0]+\".jpg\")\n",
    "    #get train ids\n",
    "    with open('id_train.csv', 'rb') as csvfile:\n",
    "        trainreader = csv.reader(csvfile, delimiter=',')\n",
    "        next(trainreader)\n",
    "        for row in trainreader:\n",
    "            train_test_list.append(row[0]+\".jpg\")\n",
    "    \n",
    "    #file_names = os.path.join('input', '*.jpg')\n",
    "    all_files = listdir('input')\n",
    "    for i in range(0,len(all_files)):\n",
    "        if all_files[i] not in train_test_list:\n",
    "            #print all_files[i]\n",
    "            img = cv2.imread(os.path.join('input', all_files[i]),0)\n",
    "            img = cv2.resize(img, (PIXELS, PIXELS))\n",
    "            #img = img.transpose(2, 0, 1)\n",
    "            img = np.reshape(img, (1, num_features))\n",
    "            X_unlabel.append(img)\n",
    "            X_unlabel_id.append(row[0])\n",
    "\n",
    "    X_unlabel = np.array(X_unlabel)\n",
    "    X_unlabel_id = np.array(X_unlabel_id)\n",
    "\n",
    "    X_unlabel = X_unlabel.reshape(X_unlabel.shape[0], 1, PIXELS, PIXELS).astype('float32') / 255.\n",
    "\n",
    "    return X_unlabel, X_unlabel_id\n",
    "\n",
    "# load unlabeled data\n",
    "X_unlabel, X_unlabel_id = load_unlabeled()\n",
    "print('unlabeled shape:', X_unlabel.shape, 'unlabeled ID shape:', X_unlabel_id.shape)"
   ]
  },
  {
   "cell_type": "code",
   "execution_count": 6,
   "metadata": {
    "collapsed": false
   },
   "outputs": [
    {
     "name": "stdout",
     "output_type": "stream",
     "text": [
      "[[   0 2781]\n",
      " [   1 1458]\n",
      " [   2  696]\n",
      " [   3 1465]]\n"
     ]
    },
    {
     "data": {
      "image/png": "[encoded data removed]",
      "text/plain": [
       "<matplotlib.figure.Figure at 0x3fa5b38>"
      ]
     },
     "metadata": {},
     "output_type": "display_data"
    }
   ],
   "source": [
    "# Plot an example image with its label\n",
    "#print train_X[:1]\n",
    "unique, counts = np.unique(train_y, return_counts=True)\n",
    "print np.asarray((unique, counts)).T\n",
    "\n",
    "plt.imshow(train_X[0][0], interpolation='nearest', cmap=plt.cm.gray)\n",
    "plt.title(\"Label: {}\".format(train_y[0]))\n",
    "plt.gca().set_axis_off()\n",
    "#plt.show()"
   ]
  },
  {
   "cell_type": "code",
   "execution_count": 7,
   "metadata": {
    "collapsed": false
   },
   "outputs": [],
   "source": [
    "\n",
    "'''\n",
    "Lasagne Model ZFTurboNet and Batch Iterator\n",
    "'''\n",
    "def ZFTurboNet(input_var=None):\n",
    "    l_in = InputLayer(shape=(None, 1, PIXELS, PIXELS), input_var=input_var)\n",
    "\n",
    "    l_conv = Conv2DLayer(l_in, num_filters=8, filter_size=(3,3), pad=1, nonlinearity=rectify)\n",
    "    l_pool1 = MaxPool2DLayer(l_conv, pool_size=2) # feature maps 12x12\n",
    "    l_convb = Conv2DLayer(l_pool1, num_filters=8, filter_size=(3,3), pad=1, nonlinearity=rectify)\n",
    "    l_pool2 = MaxPool2DLayer(l_convb, pool_size=2) # feature maps 12x12\n",
    "\n",
    "    l_dropout1 = DropoutLayer(l_pool2, p=0.25)\n",
    "    l_hidden = DenseLayer(l_dropout1, num_units=128, nonlinearity=rectify)\n",
    "    l_dropout2 = DropoutLayer(l_hidden, p=0.5)\n",
    "\n",
    "    l_out = DenseLayer(l_dropout2, # The number of units in the softmas output layer is the number of classes.\n",
    "                       num_units=4, nonlinearity=softmax)\n",
    "\n",
    "    return l_out\n",
    "\n",
    "def iterate_minibatches(inputs, targets, batchsize):\n",
    "    assert len(inputs) == len(targets)\n",
    "    indices = np.arange(len(inputs))\n",
    "    np.random.shuffle(indices)\n",
    "    for start_idx in range(0, len(inputs) - batchsize + 1, batchsize):\n",
    "        excerpt = indices[start_idx:start_idx + batchsize]\n",
    "        yield inputs[excerpt], targets[excerpt]\n",
    "\n"
   ]
  },
  {
   "cell_type": "code",
   "execution_count": 8,
   "metadata": {
    "collapsed": false
   },
   "outputs": [],
   "source": [
    "\"\"\"\n",
    "Set up all theano functions\n",
    "\"\"\"\n",
    "LR = 0.001\n",
    "\n",
    "\n",
    "theano.config.optimizer = 'None'\n",
    "\n",
    "X = T.tensor4('X')\n",
    "Y = T.ivector('y')\n",
    "\n",
    "# set up theano functions to generate output by feeding data through network, any test outputs should be deterministic\n",
    "output_layer = ZFTurboNet(X)\n",
    "output_train = lasagne.layers.get_output(output_layer)\n",
    "output_test = lasagne.layers.get_output(output_layer, deterministic=True)\n",
    "\n",
    "# set up the loss that we aim to minimize, when using cat cross entropy our Y should be ints not one-hot\n",
    "loss = lasagne.objectives.categorical_crossentropy(output_train, Y)\n",
    "loss = loss.mean()\n",
    "\n",
    "# set up loss functions for validation dataset\n",
    "valid_loss = lasagne.objectives.categorical_crossentropy(output_test, Y)\n",
    "valid_loss = valid_loss.mean()\n",
    "\n",
    "valid_acc = T.mean(T.eq(T.argmax(output_test, axis=1), Y), dtype=theano.config.floatX)\n",
    "\n",
    "# get parameters from network and set up sgd with nesterov momentum to update parameters\n",
    "params = lasagne.layers.get_all_params(output_layer, trainable=True)\n",
    "updates = adam(loss, params, learning_rate=LR)\n",
    "\n",
    "# set up training and prediction functions\n",
    "train_fn = theano.function(inputs=[X,Y], outputs=loss, updates=updates)\n",
    "valid_fn = theano.function(inputs=[X,Y], outputs=[valid_loss, valid_acc])\n",
    "\n",
    "# set up prediction function\n",
    "predict_proba = theano.function(inputs=[X], outputs=output_test)\n"
   ]
  },
  {
   "cell_type": "code",
   "execution_count": 9,
   "metadata": {
    "collapsed": false
   },
   "outputs": [
    {
     "name": "stdout",
     "output_type": "stream",
     "text": [
      "('iter:', 0, '| TL:', 1.238, '| VL:', 1.077, '| Vacc:', 0.54400003, '| Ratio:', 1.15, '| Time:', 1661.5)\n",
      "('iter:', 1, '| TL:', 1.04, '| VL:', 0.92299998, '| Vacc:', 0.63, '| Ratio:', 1.13, '| Time:', 1831.9000000000001)\n",
      "('iter:', 2, '| TL:', 0.89099997, '| VL:', 0.92699999, '| Vacc:', 0.63800001, '| Ratio:', 0.95999998, '| Time:', 1628.4000000000001)\n",
      "('iter:', 3, '| TL:', 0.79100001, '| VL:', 0.86500001, '| Vacc:', 0.65899998, '| Ratio:', 0.91000003, '| Time:', 1694.0)\n",
      "('iter:', 4, '| TL:', 0.722, '| VL:', 0.85000002, '| Vacc:', 0.67199999, '| Ratio:', 0.85000002, '| Time:', 1661.8)\n",
      "('iter:', 5, '| TL:', 0.64999998, '| VL:', 0.95200002, '| Vacc:', 0.65499997, '| Ratio:', 0.68000001, '| Time:', 1839.7)\n",
      "('iter:', 6, '| TL:', 0.56599998, '| VL:', 0.97500002, '| Vacc:', 0.66900003, '| Ratio:', 0.57999998, '| Time:', 1726.0)\n",
      "('iter:', 7, '| TL:', 0.50700003, '| VL:', 0.94300002, '| Vacc:', 0.662, '| Ratio:', 0.54000002, '| Time:', 1941.7)\n",
      "('iter:', 8, '| TL:', 0.43599999, '| VL:', 1.101, '| Vacc:', 0.662, '| Ratio:', 0.40000001, '| Time:', 1934.3)\n",
      "('iter:', 9, '| TL:', 0.414, '| VL:', 1.066, '| Vacc:', 0.66600001, '| Ratio:', 0.38999999, '| Time:', 1900.9000000000001)\n",
      "('iter:', 10, '| TL:', 0.375, '| VL:', 1.09, '| Vacc:', 0.66799998, '| Ratio:', 0.34, '| Time:', 1727.0)\n",
      "('iter:', 11, '| TL:', 0.33000001, '| VL:', 1.28, '| Vacc:', 0.662, '| Ratio:', 0.25999999, '| Time:', 1714.0)\n",
      "('iter:', 12, '| TL:', 0.317, '| VL:', 1.339, '| Vacc:', 0.64099997, '| Ratio:', 0.23999999, '| Time:', 1835.5999999999999)\n",
      "('iter:', 13, '| TL:', 0.28799999, '| VL:', 1.28, '| Vacc:', 0.671, '| Ratio:', 0.22, '| Time:', 1746.5999999999999)\n"
     ]
    }
   ],
   "source": [
    "'''\n",
    "start training\n",
    "'''\n",
    "\n",
    "BATCHSIZE = 5\n",
    "ITERS = 50\n",
    "\n",
    "# loop over training functions for however many iterations, print information while training\n",
    "try:\n",
    "    for epoch in range(ITERS):\n",
    "        # do the training\n",
    "        start = time.time()\n",
    "        # training batches\n",
    "        train_loss = []\n",
    "        for batch in iterate_minibatches(train_X, train_y, BATCHSIZE):\n",
    "            inputs, targets = batch\n",
    "            train_loss.append(train_fn(inputs, targets))\n",
    "        train_loss = np.mean(train_loss)\n",
    "        # validation batches\n",
    "        valid_loss = []\n",
    "        valid_acc = []\n",
    "        for batch in iterate_minibatches(valid_X, valid_y, BATCHSIZE):\n",
    "            inputs, targets = batch\n",
    "            valid_eval = valid_fn(inputs, targets)\n",
    "            valid_loss.append(valid_eval[0])\n",
    "            valid_acc.append(valid_eval[1])\n",
    "        valid_loss = np.mean(valid_loss)\n",
    "        valid_acc = np.mean(valid_acc)\n",
    "        # get ratio of TL to VL\n",
    "        ratio = train_loss / valid_loss\n",
    "        end = time.time() - start\n",
    "        # print training details\n",
    "        print('iter:', epoch, '| TL:', np.round(train_loss,decimals=3), '| VL:', np.round(valid_loss, decimals=3), \\\n",
    "              '| Vacc:', np.round(valid_acc, decimals=3), '| Ratio:', np.round(ratio, decimals=2), '| Time:', \\\n",
    "              np.round(end, decimals=1))\n",
    "\n",
    "except KeyboardInterrupt:\n",
    "    pass"
   ]
  },
  {
   "cell_type": "code",
   "execution_count": 11,
   "metadata": {
    "collapsed": false
   },
   "outputs": [
    {
     "name": "stdout",
     "output_type": "stream",
     "text": [
      "('iter:', 0, '| TL:', 0.30700001, '| VL:', 1.365, '| Vacc:', 0.65799999, '| Ratio:', 0.22, '| Time:', 1602.0)\n",
      "('iter:', 1, '| TL:', 0.27500001, '| VL:', 1.558, '| Vacc:', 0.64099997, '| Ratio:', 0.18000001, '| Time:', 1546.0999999999999)\n",
      "('iter:', 2, '| TL:', 0.29699999, '| VL:', 1.443, '| Vacc:', 0.64499998, '| Ratio:', 0.20999999, '| Time:', 1692.2)\n",
      "('iter:', 3, '| TL:', 0.25600001, '| VL:', 1.666, '| Vacc:', 0.66500002, '| Ratio:', 0.15000001, '| Time:', 1655.0999999999999)\n",
      "('iter:', 4, '| TL:', 0.259, '| VL:', 1.682, '| Vacc:', 0.65799999, '| Ratio:', 0.15000001, '| Time:', 1524.0)\n"
     ]
    }
   ],
   "source": [
    "#Let's go with 5 iterations after which VL increases and go with smaller batch size\n",
    "\n",
    "BATCHSIZE = 3\n",
    "ITERS = 5\n",
    "\n",
    "# loop over training functions for however many iterations, print information while training\n",
    "try:\n",
    "    for epoch in range(ITERS):\n",
    "        # do the training\n",
    "        start = time.time()\n",
    "        # training batches\n",
    "        train_loss = []\n",
    "        for batch in iterate_minibatches(train_X, train_y, BATCHSIZE):\n",
    "            inputs, targets = batch\n",
    "            train_loss.append(train_fn(inputs, targets))\n",
    "        train_loss = np.mean(train_loss)\n",
    "        # validation batches\n",
    "        valid_loss = []\n",
    "        valid_acc = []\n",
    "        for batch in iterate_minibatches(valid_X, valid_y, BATCHSIZE):\n",
    "            inputs, targets = batch\n",
    "            valid_eval = valid_fn(inputs, targets)\n",
    "            valid_loss.append(valid_eval[0])\n",
    "            valid_acc.append(valid_eval[1])\n",
    "        valid_loss = np.mean(valid_loss)\n",
    "        valid_acc = np.mean(valid_acc)\n",
    "        # get ratio of TL to VL\n",
    "        ratio = train_loss / valid_loss\n",
    "        end = time.time() - start\n",
    "        # print training details\n",
    "        print('iter:', epoch, '| TL:', np.round(train_loss,decimals=3), '| VL:', np.round(valid_loss, decimals=3), \\\n",
    "              '| Vacc:', np.round(valid_acc, decimals=3), '| Ratio:', np.round(ratio, decimals=2), '| Time:', \\\n",
    "              np.round(end, decimals=1))\n",
    "\n",
    "except KeyboardInterrupt:\n",
    "    pass"
   ]
  },
  {
   "cell_type": "code",
   "execution_count": 12,
   "metadata": {
    "collapsed": false
   },
   "outputs": [
    {
     "name": "stdout",
     "output_type": "stream",
     "text": [
      "Making predictions\n",
      "pred shape\n",
      "(13999L, 4L)\n"
     ]
    }
   ],
   "source": [
    "'''\n",
    "Make Submission\n",
    "'''\n",
    "\n",
    "#make predictions\n",
    "print('Making predictions')\n",
    "PRED_BATCH = 1\n",
    "def iterate_pred_minibatches(inputs, batchsize):\n",
    "    for start_idx in range(0, len(inputs) - batchsize + 1, batchsize):\n",
    "        excerpt = slice(start_idx, start_idx + batchsize)\n",
    "        yield inputs[excerpt]\n",
    "\n",
    "predictions = []\n",
    "for pred_batch in iterate_pred_minibatches(X_test, PRED_BATCH):\n",
    "    predictions.extend(predict_proba(pred_batch))\n",
    "\n",
    "\n",
    "predictions = np.array(predictions)\n",
    "print('pred shape')\n",
    "print(predictions.shape)\n",
    "\n",
    "with open('submit_NN_200.csv', 'wb') as mycsvfile:\n",
    "            thedatawriter = csv.writer(mycsvfile)\n",
    "            thedatawriter.writerow(['Id','label'])\n",
    "            for i in range(predictions.shape[0]):\n",
    "                out = [X_test_id[i],predictions[i].argmax(0)+1]\n",
    "                thedatawriter.writerow(out)"
   ]
  }
 ],
 "metadata": {
  "kernelspec": {
   "display_name": "Python 2",
   "language": "python",
   "name": "python2"
  },
  "language_info": {
   "codemirror_mode": {
    "name": "ipython",
    "version": 2
   },
   "file_extension": ".py",
   "mimetype": "text/x-python",
   "name": "python",
   "nbconvert_exporter": "python",
   "pygments_lexer": "ipython2",
   "version": "2.7.11"
  }
 },
 "nbformat": 4,
 "nbformat_minor": 0
}
